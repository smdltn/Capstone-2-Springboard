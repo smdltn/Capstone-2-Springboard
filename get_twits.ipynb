{
 "cells": [
  {
   "cell_type": "code",
   "execution_count": 3,
   "metadata": {},
   "outputs": [],
   "source": [
    "import tweepy\n",
    "import csv\n",
    "import pandas as pd\n",
    "\n",
    "api_key = ''\n",
    "api_skey = ''\n",
    "access_token = ''\n",
    "access_stoken = ''\n",
    "\n",
    "auth = tweepy.OAuthHandler(api_key, api_skey)\n",
    "auth.set_access_token(access_token, access_stoken)\n",
    "api = tweepy.API(auth, wait_on_rate_limit=True)\n",
    "\n",
    "twits = open('snow_ipo.csv', 'a')\n",
    "csv_writer = csv.writer(twits)"
   ]
  },
  {
   "cell_type": "code",
   "execution_count": null,
   "metadata": {},
   "outputs": [],
   "source": [
    "for tweet in tweepy.Cursor(api.search, q=[\"#snowflakedb\"], \n",
    "                           lang='en', since='2020-09-01', until='2020-09-15').items():\n",
    "    #print(tweet.created_at, tweet.text)\n",
    "    csv_writer.writerow([tweet.created_at, tweet.text.encode('utf-8')])"
   ]
  },
  {
   "cell_type": "code",
   "execution_count": 2,
   "metadata": {},
   "outputs": [],
   "source": [
    "for tweet in tweepy.Cursor(api.search, q=[\"palantir\"], \n",
    "                           lang='en', since='2020-09-01', stweet_mode='extended').items():\n",
    "    #print(tweet.created_at, tweet.text)\n",
    "    csv_writer.writerow([tweet.created_at, tweet.text.encode('utf-8')])"
   ]
  },
  {
   "cell_type": "code",
   "execution_count": 4,
   "metadata": {},
   "outputs": [],
   "source": [
    "for tweet in tweepy.Cursor(api.search, q=[\"snowflake IPO\"], \n",
    "                           lang='en', since='2020-09-01', stweet_mode='extended').items():\n",
    "    #print(tweet.created_at, tweet.text)\n",
    "    csv_writer.writerow([tweet.created_at, tweet.text.encode('utf-8')])"
   ]
  }
 ],
 "metadata": {
  "kernelspec": {
   "display_name": "Python 3",
   "language": "python",
   "name": "python3"
  },
  "language_info": {
   "codemirror_mode": {
    "name": "ipython",
    "version": 3
   },
   "file_extension": ".py",
   "mimetype": "text/x-python",
   "name": "python",
   "nbconvert_exporter": "python",
   "pygments_lexer": "ipython3",
   "version": "3.7.4"
  }
 },
 "nbformat": 4,
 "nbformat_minor": 2
}
